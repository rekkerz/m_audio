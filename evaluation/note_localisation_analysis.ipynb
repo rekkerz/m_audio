{
 "cells": [
  {
   "cell_type": "markdown",
   "id": "036fe1da-11cb-43d8-a21f-ad358afc8f82",
   "metadata": {},
   "source": [
    "# LSTM & GRU Models applied to webscraped Tablature dataset"
   ]
  },
  {
   "cell_type": "markdown",
   "id": "0c75ac47-2d3d-406c-b4c2-793148d77c2c",
   "metadata": {
    "tags": []
   },
   "source": [
    "### Imports:"
   ]
  },
  {
   "cell_type": "code",
   "execution_count": 1,
   "id": "c543b0e1-15cb-41bf-ab1e-9d47e55f0717",
   "metadata": {},
   "outputs": [],
   "source": [
    "import pandas as pd\n",
    "import matplotlib.pyplot as plt\n",
    "\n",
    "import numpy as np\n",
    "import math\n",
    "from keras.models import Sequential, Model\n",
    "from keras.layers import Dense, Input, LSTM, GRU, Embedding\n",
    "from keras.layers import GRU, Input, Dense, TimeDistributed, Activation, RepeatVector, Bidirectional, Dropout, LSTM\n",
    "from keras.optimizers import Adam, SGD\n",
    "from keras.preprocessing.text import Tokenizer\n",
    "from tensorflow.keras.preprocessing.sequence import pad_sequences\n",
    "\n",
    "import ast\n",
    "import tensorflow as tf\n",
    "\n",
    "from keras.utils import *\n",
    "from keras.initializers import *\n",
    "import time, random\n",
    "\n",
    "import graphviz, pydot"
   ]
  },
  {
   "cell_type": "markdown",
   "id": "96befc28-ea28-4ac1-a723-971859be9e65",
   "metadata": {
    "tags": []
   },
   "source": [
    "### Ensure GPU's active:"
   ]
  },
  {
   "cell_type": "code",
   "execution_count": 2,
   "id": "13ce47cd-dde4-4237-a95c-18a3d987990a",
   "metadata": {},
   "outputs": [
    {
     "name": "stdout",
     "output_type": "stream",
     "text": [
      "[name: \"/device:CPU:0\"\n",
      "device_type: \"CPU\"\n",
      "memory_limit: 268435456\n",
      "locality {\n",
      "}\n",
      "incarnation: 997357729536846266\n",
      "xla_global_id: -1\n",
      ", name: \"/device:GPU:0\"\n",
      "device_type: \"GPU\"\n",
      "memory_limit: 4857331712\n",
      "locality {\n",
      "  bus_id: 1\n",
      "  links {\n",
      "  }\n",
      "}\n",
      "incarnation: 1824842851949932457\n",
      "physical_device_desc: \"device: 0, name: NVIDIA GeForce GTX 1060 with Max-Q Design, pci bus id: 0000:01:00.0, compute capability: 6.1\"\n",
      "xla_global_id: 416903419\n",
      "]\n"
     ]
    }
   ],
   "source": [
    "from tensorflow.python.client import device_lib\n",
    "print(device_lib.list_local_devices())"
   ]
  },
  {
   "cell_type": "markdown",
   "id": "5ae207bf-64d3-44d3-b624-109b40f252c8",
   "metadata": {
    "tags": []
   },
   "source": [
    "### Functions:"
   ]
  },
  {
   "cell_type": "code",
   "execution_count": 3,
   "id": "587134da-4a98-427d-943b-78e38cc9042b",
   "metadata": {},
   "outputs": [],
   "source": [
    "def tokenize(x, tokenizer):\n",
    "    \"\"\"\n",
    "    Tokenize x\n",
    "    :param x: List of sentences/strings to be tokenized\n",
    "    :return: Tuple of (tokenized x data, tokenizer used to tokenize x)\n",
    "    \"\"\"\n",
    "    tokenizer.fit_on_texts(x)\n",
    "    return tokenizer.texts_to_sequences(x), tokenizer\n",
    "    \n",
    "\n",
    "def pad(x, length=None):\n",
    "    \"\"\"\n",
    "    Pad x\n",
    "    :param x: List of sequences.\n",
    "    :param length: Length to pad the sequence to.  If None, use length of longest sequence in x.\n",
    "    :return: Padded numpy array of sequences\n",
    "    \"\"\"\n",
    "    # TODO: Implement\n",
    "    return pad_sequences(x, maxlen=length, padding='post')\n",
    "\n",
    "def parse_data(row):\n",
    "    \"\"\"\n",
    "    This function parses a row extracted from the csv file\n",
    "    \n",
    "    Example usage:\n",
    "        train_sample = train.values[4]\n",
    "        notes, locations = parse_data(train_sample)\n",
    "    \"\"\"\n",
    "    notes = ast.literal_eval(row[1])\n",
    "    locations = ast.literal_eval(row[2])\n",
    "    \n",
    "    out_notes = []\n",
    "    out_locations = []\n",
    "    \n",
    "    for i, line in enumerate(notes):\n",
    "        out_notes.append(line)\n",
    "        locs = [locations[i][j] for j,v in enumerate(line)]\n",
    "        out_locations.append(locs)\n",
    "        \n",
    "        #for j, note in enumerate(line):\n",
    "            #out_notes.append(note)\n",
    "           # out_locations.append(locations[i][j])\n",
    "        \n",
    "    return out_notes, out_locations\n",
    "\n",
    "def get_next_note(current_note):\n",
    "    # A simple solution to create a \"wheel\" of note alphabet\n",
    "    alphabet = [\"C\", \"C#\", \"D\", \"D#\", \"E\", \"F\", \"F#\", \"G\", \"G#\", \"A\", \"A#\", \"B\"]\n",
    "    for i, note in enumerate(alphabet):\n",
    "        if note == current_note:\n",
    "            if i+1 == len(alphabet):\n",
    "                return alphabet[0]\n",
    "            else:\n",
    "                return alphabet[i+1]\n",
    "\n",
    "def generate_maps():\n",
    "    \"\"\"\n",
    "    Generates the id to note and id to location maps.\n",
    "    \"\"\"\n",
    "    alphabet = [\"C\", \"C#\", \"D\", \"D#\", \"E\", \"F\", \"F#\", \"G\", \"G#\", \"A\", \"A#\", \"B\"]\n",
    "\n",
    "    note_map = dict()\n",
    "    loc_map = dict()\n",
    "    \n",
    "    counter = 0\n",
    "    for note in alphabet: # for 7 notes in the alphabet\n",
    "        for j in range(5): # for 5 octave range of guitar\n",
    "            octave = j + 2 # starting octave 2\n",
    "            msg = \"{}{} - {}\".format(note, octave, counter)\n",
    "            #print(msg)\n",
    "            \n",
    "            key = \"{}{}\".format(note, octave)\n",
    "            \n",
    "            note_map[key] = counter+1 # set note to counter as id e.g. C2 = 1 ; 0 is reserved for padding\n",
    "            \n",
    "            counter += 1\n",
    "    \n",
    "    #print(note_map)\n",
    "    note_map_back = dict(map(reversed, note_map.items()))\n",
    "    #print(note_map_back)\n",
    "    \n",
    "    counter = 0\n",
    "    for string in range(6):\n",
    "        string += 1\n",
    "        for fret in range(25):\n",
    "            #print(string, fret)\n",
    "            key = (string, fret)\n",
    "            \n",
    "            loc_map[key] = counter + 1 \n",
    "            \n",
    "            counter += 1\n",
    "    \n",
    "    #print(loc_map)\n",
    "    loc_map_back = dict(map(reversed, loc_map.items()))\n",
    "    #print(loc_map_back)\n",
    "    \n",
    "    return note_map, note_map_back, loc_map, loc_map_back\n",
    "\n",
    "def logits_to_loc(logits, tokenizer):\n",
    "    indx = np.argmax(logits[0]) # find the predicted note\n",
    "    return tokenizer[indx]\n",
    "\n",
    "def make_note_map():\n",
    "    alphabet = [\"C\", \"C#\", \"D\", \"D#\", \"E\", \"F\", \"F#\", \"G\", \"G#\", \"A\", \"A#\", \"B\"]\n",
    "    \n",
    "    tuning = [(\"E\", 4), (\"B\", 3), (\"G\", 3), (\"D\",3), (\"A\", 2), (\"E\", 2)]\n",
    "    \n",
    "    note_map = {}\n",
    "\n",
    "    for string in range(6):\n",
    "        current_note = tuning[string][0]\n",
    "        current_octave = tuning[string][1]\n",
    "        for fret in range(25):\n",
    "            loc = (string+1, fret) # 1 added as note counting starts from 1\n",
    "            note = current_note + str(current_octave)\n",
    "            #print(note ,loc)\n",
    "            \n",
    "            if note in note_map.keys():\n",
    "                cpy = note_map[note]\n",
    "                cpy.append(loc)\n",
    "                note_map[note] = cpy\n",
    "            else:\n",
    "                note_map[note] = [loc]\n",
    "            \n",
    "            \n",
    "            if current_note == \"B\":\n",
    "                current_octave += 1\n",
    "            current_note = get_next_note(current_note)\n",
    "    \n",
    "    return note_map\n",
    "\n",
    "def find_note_by_loc(loc, note_map):\n",
    "    for key in note_map.keys():\n",
    "        if loc in note_map[key]:\n",
    "            return key    \n",
    "\n",
    "def generate_training_data():\n",
    "    note_map = make_note_map()\n",
    "    \n",
    "    jumble = []\n",
    "    \n",
    "    for fret_position in range(6):\n",
    "        seq = []\n",
    "        \n",
    "        for string in range(6):\n",
    "            \n",
    "            for f in range(4):\n",
    "                \n",
    "                actual_fret = f + (fret_position*4)\n",
    "                loc = (string+1, actual_fret)\n",
    "                note = find_note_by_loc(loc, note_map)\n",
    "                seq.append((note,loc))\n",
    "        jumble.append(seq)\n",
    "    \n",
    "    \n",
    "    # randomly jumble the notes within the position\n",
    "    note_train, loc_train = [], []\n",
    "    \n",
    "    for position in jumble:\n",
    "        for i in range(1000): # generate 1000 sequences for each position\n",
    "            \n",
    "            notes = []\n",
    "            locs = []\n",
    "            \n",
    "            for j in range(100): # each sequence is going to be of length 100\n",
    "                choice = position[random.randint(0, 23)] # randomly pick an item within that hand position\n",
    "                notes.append(choice[0])\n",
    "                locs.append(choice[1])\n",
    "            \n",
    "            note_train.append(notes)\n",
    "            loc_train.append(locs)                \n",
    "\n",
    "    return note_train, loc_train"
   ]
  },
  {
   "cell_type": "markdown",
   "id": "40a982d5-89bb-4035-9e95-7c15809b09bc",
   "metadata": {},
   "source": [
    "### Loading Data:"
   ]
  },
  {
   "cell_type": "code",
   "execution_count": 4,
   "id": "be919542-9914-48da-9480-d945038eb9f3",
   "metadata": {},
   "outputs": [],
   "source": [
    "# Preliminary Training dataset\n",
    "notes_train, locs_train = generate_training_data()"
   ]
  },
  {
   "cell_type": "code",
   "execution_count": 5,
   "id": "3ab7db29-25b4-44c8-b19b-34b287fcb256",
   "metadata": {},
   "outputs": [
    {
     "name": "stdout",
     "output_type": "stream",
     "text": [
      "Train size:  2760\n",
      "Test size:  691\n"
     ]
    },
    {
     "data": {
      "text/html": [
       "<div>\n",
       "<style scoped>\n",
       "    .dataframe tbody tr th:only-of-type {\n",
       "        vertical-align: middle;\n",
       "    }\n",
       "\n",
       "    .dataframe tbody tr th {\n",
       "        vertical-align: top;\n",
       "    }\n",
       "\n",
       "    .dataframe thead th {\n",
       "        text-align: right;\n",
       "    }\n",
       "</style>\n",
       "<table border=\"1\" class=\"dataframe\">\n",
       "  <thead>\n",
       "    <tr style=\"text-align: right;\">\n",
       "      <th></th>\n",
       "      <th>filename</th>\n",
       "      <th>notes</th>\n",
       "      <th>positions</th>\n",
       "    </tr>\n",
       "  </thead>\n",
       "  <tbody>\n",
       "    <tr>\n",
       "      <th>0</th>\n",
       "      <td>24kgoldn_city-of-angels-tabs-2998598.txt</td>\n",
       "      <td>[['A#4', 'F4', 'D4', 'A#3', 'F3'], ['A#4', 'F4...</td>\n",
       "      <td>[[(1, 6), (2, 6), (3, 7), (4, 8), (5, 8)], [(1...</td>\n",
       "    </tr>\n",
       "    <tr>\n",
       "      <th>1</th>\n",
       "      <td>24kgoldn_mood-tabs-3262430.txt</td>\n",
       "      <td>[['G4', 'D#4', 'A#3'], ['G4', 'D#4', 'A#3'], [...</td>\n",
       "      <td>[[(1, 3), (2, 4), (3, 3)], [(1, 3), (2, 4), (3...</td>\n",
       "    </tr>\n",
       "    <tr>\n",
       "      <th>2</th>\n",
       "      <td>24kgoldn_mood-tabs-3353051.txt</td>\n",
       "      <td>[['G4', 'D#3'], ['G4', 'D#3'], ['A#4', 'G3'], ...</td>\n",
       "      <td>[[(2, 8), (5, 6)], [(2, 8), (5, 6)], [(2, 11),...</td>\n",
       "    </tr>\n",
       "    <tr>\n",
       "      <th>3</th>\n",
       "      <td>3-doors-down_be-like-that-tabs-150098.txt</td>\n",
       "      <td>[['G2'], ['G3'], ['D3'], ['G4'], ['D4'], ['G3'...</td>\n",
       "      <td>[[(6, 3)], [(3, 0)], [(4, 0)], [(1, 3)], [(2, ...</td>\n",
       "    </tr>\n",
       "    <tr>\n",
       "      <th>4</th>\n",
       "      <td>3-doors-down_here-without-you-tabs-40873.txt</td>\n",
       "      <td>[['A2'], ['E3'], ['A3'], ['C4'], ['A3'], ['E3'...</td>\n",
       "      <td>[[(5, 0)], [(4, 2)], [(3, 2)], [(2, 1)], [(3, ...</td>\n",
       "    </tr>\n",
       "  </tbody>\n",
       "</table>\n",
       "</div>"
      ],
      "text/plain": [
       "                                       filename  \\\n",
       "0      24kgoldn_city-of-angels-tabs-2998598.txt   \n",
       "1                24kgoldn_mood-tabs-3262430.txt   \n",
       "2                24kgoldn_mood-tabs-3353051.txt   \n",
       "3     3-doors-down_be-like-that-tabs-150098.txt   \n",
       "4  3-doors-down_here-without-you-tabs-40873.txt   \n",
       "\n",
       "                                               notes  \\\n",
       "0  [['A#4', 'F4', 'D4', 'A#3', 'F3'], ['A#4', 'F4...   \n",
       "1  [['G4', 'D#4', 'A#3'], ['G4', 'D#4', 'A#3'], [...   \n",
       "2  [['G4', 'D#3'], ['G4', 'D#3'], ['A#4', 'G3'], ...   \n",
       "3  [['G2'], ['G3'], ['D3'], ['G4'], ['D4'], ['G3'...   \n",
       "4  [['A2'], ['E3'], ['A3'], ['C4'], ['A3'], ['E3'...   \n",
       "\n",
       "                                           positions  \n",
       "0  [[(1, 6), (2, 6), (3, 7), (4, 8), (5, 8)], [(1...  \n",
       "1  [[(1, 3), (2, 4), (3, 3)], [(1, 3), (2, 4), (3...  \n",
       "2  [[(2, 8), (5, 6)], [(2, 8), (5, 6)], [(2, 11),...  \n",
       "3  [[(6, 3)], [(3, 0)], [(4, 0)], [(1, 3)], [(2, ...  \n",
       "4  [[(5, 0)], [(4, 2)], [(3, 2)], [(2, 1)], [(3, ...  "
      ]
     },
     "execution_count": 5,
     "metadata": {},
     "output_type": "execute_result"
    }
   ],
   "source": [
    "# Our dataset of tabs\n",
    "dataset = pd.read_csv(\"data/tabs.csv\", usecols=[0,1,2], engine=\"python\")\n",
    "train_size = int(len(dataset) * 0.8) # 0.67\n",
    "test_size = len(dataset) - train_size\n",
    "train, test = dataset[0:train_size], dataset[train_size:len(dataset)]\n",
    "train = train.drop([244]) # Removing an invalid row\n",
    "\n",
    "print(\"Train size: \", len(train))\n",
    "print(\"Test size: \", len(test))\n",
    "\n",
    "train.head()"
   ]
  },
  {
   "cell_type": "markdown",
   "id": "ea397df7-f520-4dc2-95ce-128f1e660395",
   "metadata": {},
   "source": [
    "### Prepare the data"
   ]
  },
  {
   "cell_type": "code",
   "execution_count": 6,
   "id": "581c0e78-3d10-403a-8d70-d49baec6c3af",
   "metadata": {},
   "outputs": [],
   "source": [
    "# Training data\n",
    "all_train_notes, all_train_locs = [], []\n",
    "for note, loc in zip(notes_train, locs_train):\n",
    "    all_train_notes.append(note)\n",
    "    all_train_locs.append(loc)"
   ]
  },
  {
   "cell_type": "code",
   "execution_count": 7,
   "id": "e471c3c9-afd4-4bc2-9fc7-dca938e7d966",
   "metadata": {},
   "outputs": [],
   "source": [
    "# Dataset data\n",
    "all_notes, all_locs = [], []\n",
    "for i in train.values:\n",
    "    try:\n",
    "        notes, locs = parse_data(i)\n",
    "    except:\n",
    "        print(\"Skipped a song...\")\n",
    "        continue\n",
    "        \n",
    "    notes_clean, locs_clean = [], []\n",
    "    \n",
    "    for i, val in enumerate(notes):\n",
    "        for j, note in enumerate(val):\n",
    "            notes_clean.append(note)\n",
    "            locs_clean.append(locs[i][j])\n",
    "            \n",
    "    \n",
    "    all_notes.append(notes_clean)\n",
    "    all_locs.append(locs_clean)"
   ]
  },
  {
   "cell_type": "code",
   "execution_count": 8,
   "id": "50aae3ee-df20-4d51-992e-6deaea8fac23",
   "metadata": {},
   "outputs": [
    {
     "name": "stdout",
     "output_type": "stream",
     "text": [
      "Training notes length:  6000\n",
      "Training locs length:  6000\n",
      "\n",
      "Dataset notes length:  2760\n",
      "Dataset locs length:  2760\n"
     ]
    }
   ],
   "source": [
    "print(\"Training notes length: \", len(all_train_notes))\n",
    "print(\"Training locs length: \", len(all_train_locs))\n",
    "\n",
    "print(\"\\nDataset notes length: \", len(all_notes))\n",
    "print(\"Dataset locs length: \", len(all_locs))"
   ]
  },
  {
   "cell_type": "markdown",
   "id": "bfdf2746-1363-41d9-8f79-c72a8cfaf75e",
   "metadata": {
    "tags": []
   },
   "source": [
    "#### Validate Dataset:"
   ]
  },
  {
   "cell_type": "code",
   "execution_count": 9,
   "id": "b421cc4e-5c3e-4e87-8453-e0f7c83e32d4",
   "metadata": {},
   "outputs": [],
   "source": [
    "note_to_loc = make_note_map()\n",
    "\n",
    "for notes, locs in zip(all_notes, all_locs):\n",
    "    for i, loc in enumerate(locs):\n",
    "        note = find_note_by_loc(loc, note_to_loc)\n",
    "        if note != notes[i]:\n",
    "            print(loc)\n",
    "            print(\"Should be: \",note)\n",
    "            print(\"Actually is: \", notes[i])"
   ]
  },
  {
   "cell_type": "markdown",
   "id": "5395e0e9-3441-4e11-ae6f-22b39cbf193e",
   "metadata": {
    "tags": []
   },
   "source": [
    "#### Data Analysis:"
   ]
  },
  {
   "cell_type": "code",
   "execution_count": 10,
   "id": "2620b676-0db5-463d-925d-ac2be663a95f",
   "metadata": {},
   "outputs": [
    {
     "data": {
      "image/png": "[encoded data removed]",
      "text/plain": [
       "<Figure size 360x792 with 1 Axes>"
      ]
     },
     "metadata": {
      "needs_background": "light"
     },
     "output_type": "display_data"
    }
   ],
   "source": [
    "# Check notes coverage\n",
    "note_map, note_map_back, loc_map, loc_map_back = generate_maps() # Keep this defined\n",
    "\n",
    "counter_map = {}\n",
    "\n",
    "# convert the map to counter map\n",
    "for note in note_map.keys():\n",
    "    counter_map[note] = 0\n",
    "\n",
    "for notes in all_notes:\n",
    "    for indx, note in enumerate(notes):\n",
    "        new = counter_map[note] + 1\n",
    "        counter_map[note] = new\n",
    "\n",
    "\n",
    "x = list(counter_map.keys())\n",
    "y = list(counter_map.values())\n",
    "plt.figure(figsize=(5,11))\n",
    "plt.barh(x, y, align=\"center\")\n",
    "plt.rcParams[\"patch.force_edgecolor\"] = True\n",
    "\n",
    "plt.ylim(-0.6, len(counter_map) -0.5 ,.5)\n",
    "\n",
    "plt.title(\"Frequency of note occurence\")\n",
    "plt.xlabel(\"Total number of occurences\")\n",
    "plt.ylabel(\"Note\")\n",
    "\n",
    "plt.savefig(\"frequency_occurence.png\")"
   ]
  },
  {
   "cell_type": "code",
   "execution_count": 11,
   "id": "71ff1553-041c-4b36-befd-7081ca6bca88",
   "metadata": {},
   "outputs": [],
   "source": [
    "all_notes_length = []\n",
    "for i in all_notes:\n",
    "    all_notes_length.append(len(i))"
   ]
  },
  {
   "cell_type": "code",
   "execution_count": 12,
   "id": "e70cb08d-2996-48d1-90cf-4413055f6e9a",
   "metadata": {},
   "outputs": [
    {
     "data": {
      "text/plain": [
       "Text(0, 0.5, 'Number of songs')"
      ]
     },
     "execution_count": 12,
     "metadata": {},
     "output_type": "execute_result"
    },
    {
     "data": {
      "image/png": "[encoded data removed]",
      "text/plain": [
       "<Figure size 432x288 with 1 Axes>"
      ]
     },
     "metadata": {
      "needs_background": "light"
     },
     "output_type": "display_data"
    }
   ],
   "source": [
    "plt.hist(all_notes_length, range=(0,3000))\n",
    "plt.title(\"Sequence Length Distribution\")\n",
    "plt.xlabel(\"Sequence Length\")\n",
    "plt.ylabel(\"Number of songs\")"
   ]
  },
  {
   "cell_type": "markdown",
   "id": "4a923626-a40d-4f3c-9e8f-e84a68446d8f",
   "metadata": {},
   "source": [
    "### Preprocess Pipeline"
   ]
  },
  {
   "cell_type": "code",
   "execution_count": 13,
   "id": "e3c2c263-ef63-4df5-96e6-9ac2de74482c",
   "metadata": {},
   "outputs": [
    {
     "name": "stdout",
     "output_type": "stream",
     "text": [
      "Maximum sequence length:  500\n"
     ]
    }
   ],
   "source": [
    "# Obtain max sequence length\n",
    "max_seq_len = len(max(all_notes, key=len))\n",
    "max_seq_len = 500\n",
    "print(\"Maximum sequence length: \", max_seq_len)"
   ]
  },
  {
   "cell_type": "code",
   "execution_count": 14,
   "id": "45ce3b63-2ef1-4b47-80e8-44c860b6aa1c",
   "metadata": {},
   "outputs": [
    {
     "name": "stdout",
     "output_type": "stream",
     "text": [
      "Data Preprocessed Statistics:\n",
      "-+-+-+-+-+-+-+-+-+-+-+-+-+-+-+-+-+-+-+-+\n",
      "Max notes sequence length: 500\n",
      "Max locs sequence length: 500\n",
      "-+-+-+-+-+-+-+-+-+-+-+-+-+-+-+-+-+-+-+-+\n",
      "Max train notes sequence length: 500\n",
      "Max train locs sequence length: 500\n",
      "-+-+-+-+-+-+-+-+-+-+-+-+-+-+-+-+-+-+-+-+\n",
      "Notes vocab size:  60\n",
      "Locs vocab size:  150\n",
      "-+-+-+-+-+-+-+-+-+-+-+-+-+-+-+-+-+-+-+-+\n",
      "Notes shape:  (2339, 500, 1)\n",
      "Locs shape:  (2339, 500, 1)\n",
      "-+-+-+-+-+-+-+-+-+-+-+-+-+-+-+-+-+-+-+-+\n",
      "Notes shape:  (2339, 500, 1)\n",
      "Locs shape:  (2339, 500, 1)\n",
      "-+-+-+-+-+-+-+-+-+-+-+-+-+-+-+-+-+-+-+-+\n",
      "Train notes shape:  (6000, 500, 1)\n",
      "Train locs shape:  (6000, 500, 1)\n"
     ]
    }
   ],
   "source": [
    "note_map, note_map_back, loc_map, loc_map_back = generate_maps() # Keep this defined\n",
    "\n",
    "def preprocess(x, y, note_map, loc_tokenizer):\n",
    "    \"\"\"\n",
    "    Preprocess x and y\n",
    "    :param x: Feature List of sentences\n",
    "    :param y: Label List of sentences\n",
    "    :return: Tuple of (Preprocessed x, Preprocessed y, x tokenizer, y tokenizer)\n",
    "    \"\"\"    \n",
    "    preprocess_x = []\n",
    "    for song in x:\n",
    "        #print(song)\n",
    "        if len(song) > max_seq_len:\n",
    "            continue\n",
    "        temp = []\n",
    "        for note in song:\n",
    "            try:\n",
    "                temp.append(note_map[note])\n",
    "            except:\n",
    "                print(song)\n",
    "            \n",
    "        preprocess_x.append(temp)\n",
    "    \n",
    "    preprocess_y = []\n",
    "    # Tokenize the locs\n",
    "    for song in y:\n",
    "        if len(song) > max_seq_len:\n",
    "            continue\n",
    "        temp = []\n",
    "        for loc in song:\n",
    "            temp.append(loc_tokenizer[loc])\n",
    "        preprocess_y.append(temp)\n",
    "        \n",
    "    \n",
    "    preprocess_x = pad(preprocess_x, length = max_seq_len)\n",
    "    preprocess_y = pad(preprocess_y, length = max_seq_len)\n",
    "\n",
    "    # Keras's sparse_categorical_crossentropy function requires the labels to be in 3 dimensions\n",
    "    preprocess_x = preprocess_x.reshape(*preprocess_x.shape, 1)\n",
    "    preprocess_y = preprocess_y.reshape(*preprocess_y.shape, 1)\n",
    "\n",
    "    return preprocess_x, preprocess_y\n",
    "\n",
    "\n",
    "preproc_train_notes, preproc_train_locs =\\\n",
    "preprocess(all_train_notes, all_train_locs, note_map, loc_map)\n",
    "\n",
    "preproc_notes, preproc_locs =\\\n",
    "preprocess(all_notes, all_locs, note_map, loc_map)\n",
    "\n",
    "max_sequence_length = preproc_notes.shape[1]\n",
    "\n",
    "note_vocab_size = len(note_map)\n",
    "loc_vocab_size = len(loc_map)\n",
    "\n",
    "print('Data Preprocessed Statistics:')\n",
    "print(\"-+\"*20)\n",
    "print(\"Max notes sequence length:\", preproc_notes.shape[1])\n",
    "print(\"Max locs sequence length:\", preproc_locs.shape[1])\n",
    "print(\"-+\"*20)\n",
    "print(\"Max train notes sequence length:\", preproc_train_notes.shape[1])\n",
    "print(\"Max train locs sequence length:\", preproc_train_locs.shape[1])\n",
    "print(\"-+\"*20)\n",
    "print(\"Notes vocab size: \", len(note_map))\n",
    "print(\"Locs vocab size: \", len(loc_map))\n",
    "print(\"-+\"*20)\n",
    "print(\"Notes shape: \", preproc_notes.shape)\n",
    "print(\"Locs shape: \", preproc_locs.shape)\n",
    "print(\"-+\"*20)\n",
    "print(\"Notes shape: \", preproc_notes.shape)\n",
    "print(\"Locs shape: \", preproc_locs.shape)\n",
    "print(\"-+\"*20)\n",
    "print(\"Train notes shape: \", preproc_train_notes.shape)\n",
    "print(\"Train locs shape: \", preproc_train_locs.shape)"
   ]
  },
  {
   "cell_type": "code",
   "execution_count": 15,
   "id": "d2334ddc-86de-4ab0-9860-c1c540a5117f",
   "metadata": {},
   "outputs": [
    {
     "name": "stdout",
     "output_type": "stream",
     "text": [
      "Test set contais 577 songs\n"
     ]
    }
   ],
   "source": [
    "# Prepare test data\n",
    "# Parse\n",
    "test_notes, test_locs = [], []\n",
    "for i in test.values:\n",
    "    try:\n",
    "        notes, locs = parse_data(i)\n",
    "    except:\n",
    "        print(\"Skipped a song...\")\n",
    "        continue\n",
    "        \n",
    "    # Flatten\n",
    "    notes_clean, locs_clean = [], []\n",
    "    for i, val in enumerate(notes):\n",
    "        for j, note in enumerate(val):\n",
    "            notes_clean.append(note)\n",
    "            locs_clean.append(locs[i][j])\n",
    "            \n",
    "    \n",
    "    test_notes.append(notes_clean)\n",
    "    test_locs.append(locs_clean)\n",
    "    \n",
    "# Preprocess the data\n",
    "preproc_test_notes, preproc_test_locs = preprocess(test_notes, test_locs, note_map, loc_map)\n",
    "\n",
    "print(\"Test set contais {} songs\".format(len(preproc_test_notes)))"
   ]
  },
  {
   "cell_type": "markdown",
   "id": "132bd42d-257a-4a24-aa56-c39c84357a57",
   "metadata": {},
   "source": [
    "### Figure out baseline accuracy:\n",
    "\n",
    "As a baseline for our prediction model. We will choose a random location out of possible notes."
   ]
  },
  {
   "cell_type": "code",
   "execution_count": 16,
   "id": "e85ebe59-8c5a-41bd-bc8d-8e2d24f351b5",
   "metadata": {},
   "outputs": [
    {
     "name": "stdout",
     "output_type": "stream",
     "text": [
      "Baseline method got 65268 out of 190969. \t 34.177%\n"
     ]
    }
   ],
   "source": [
    "note_to_loc = make_note_map()\n",
    "\n",
    "baseline_correct = 0\n",
    "baseline_total = 0\n",
    "\n",
    "for song_notes, song_locs in zip(test_notes, test_locs):\n",
    "    for note, loc in zip(song_notes, song_locs):\n",
    "        \n",
    "        random_loc = random.choice(note_to_loc[note])\n",
    "        if loc == random_loc:\n",
    "            baseline_correct += 1\n",
    "            \n",
    "        baseline_total += 1\n",
    "\n",
    "print(\"Baseline method got {} out of {}. \\t {}%\".format(baseline_correct, baseline_total, round((baseline_correct/baseline_total)*100, 3)))"
   ]
  },
  {
   "cell_type": "markdown",
   "id": "ff3d30af-e9bb-4cc1-acb1-7999277ca167",
   "metadata": {
    "tags": []
   },
   "source": [
    "## Models:"
   ]
  },
  {
   "cell_type": "markdown",
   "id": "e7764886-f5b9-446a-aa9c-e375721d53c3",
   "metadata": {
    "tags": []
   },
   "source": [
    "### LSTM Model:"
   ]
  },
  {
   "cell_type": "code",
   "execution_count": 17,
   "id": "24dec8d1-b8a3-4593-9af3-5f832b50d89a",
   "metadata": {},
   "outputs": [
    {
     "name": "stdout",
     "output_type": "stream",
     "text": [
      "Model: \"sequential\"\n",
      "_________________________________________________________________\n",
      " Layer (type)                Output Shape              Param #   \n",
      "=================================================================\n",
      " embedding (Embedding)       (None, 500, 150)          9000      \n",
      "                                                                 \n",
      " lstm (LSTM)                 (None, 500, 512)          1357824   \n",
      "                                                                 \n",
      " time_distributed (TimeDistr  (None, 500, 150)         76950     \n",
      " ibuted)                                                         \n",
      "                                                                 \n",
      " activation (Activation)     (None, 500, 150)          0         \n",
      "                                                                 \n",
      "=================================================================\n",
      "Total params: 1,443,774\n",
      "Trainable params: 1,443,774\n",
      "Non-trainable params: 0\n",
      "_________________________________________________________________\n",
      "None\n"
     ]
    }
   ],
   "source": [
    "# Define the model\n",
    "def lstm_model(input_shape, output_sequence_length, note_vocab_size, loc_vocab_size):    \n",
    "    model = Sequential()\n",
    "    model.add(Embedding(output_dim=loc_vocab_size, input_dim=note_vocab_size, input_length=input_shape[1]))\n",
    "    model.add(LSTM(512, return_sequences=True, activation=\"tanh\"))\n",
    "    model.add(TimeDistributed(Dense(loc_vocab_size)))\n",
    "    model.add(Activation('softmax'))\n",
    "    \n",
    "    # Compile model\n",
    "    model.compile(loss=\"sparse_categorical_crossentropy\",\n",
    "                  optimizer=Adam(),\n",
    "                  metrics=['accuracy'])\n",
    "    return model\n",
    "\n",
    "# Reshaping the input to work with a basic RNN\n",
    "tmp_x_train = pad(preproc_train_notes, max_sequence_length)\n",
    "tmp_y_train = pad(preproc_train_locs, max_sequence_length)\n",
    "\n",
    "tmp_x = pad(preproc_notes, max_sequence_length)\n",
    "tmp_y = pad(preproc_locs, max_sequence_length)\n",
    "\n",
    "# Train the neural network\n",
    "lstm_model = lstm_model(\n",
    "    tmp_x.shape,\n",
    "    max_sequence_length,\n",
    "    note_vocab_size,\n",
    "    loc_vocab_size)\n",
    "\n",
    "print(lstm_model.summary())"
   ]
  },
  {
   "cell_type": "code",
   "execution_count": 18,
   "id": "795f8085-17f3-49c4-8aa4-28194761ba8c",
   "metadata": {},
   "outputs": [
    {
     "data": {
      "image/png": "[encoded data removed]",
      "text/plain": [
       "<IPython.core.display.Image object>"
      ]
     },
     "execution_count": 18,
     "metadata": {},
     "output_type": "execute_result"
    }
   ],
   "source": [
    "tf.keras.utils.plot_model(lstm_model, show_shapes=True)"
   ]
  },
  {
   "cell_type": "markdown",
   "id": "62e14aa4-54dc-4786-8459-967bc5a9286b",
   "metadata": {
    "tags": []
   },
   "source": [
    "#### Train:"
   ]
  },
  {
   "cell_type": "code",
   "execution_count": 19,
   "id": "980fb837-d8ca-4792-9085-c773a0c41f3e",
   "metadata": {},
   "outputs": [
    {
     "name": "stdout",
     "output_type": "stream",
     "text": [
      "Epoch 1/5\n",
      "480/480 [==============================] - 38s 73ms/step - loss: 1.0583 - accuracy: 0.8014 - val_loss: 1.4259 - val_accuracy: 0.7999\n",
      "Epoch 2/5\n",
      "480/480 [==============================] - 35s 72ms/step - loss: 0.6861 - accuracy: 0.8471 - val_loss: 2.2656 - val_accuracy: 0.8070\n",
      "Epoch 3/5\n",
      "480/480 [==============================] - 41s 85ms/step - loss: 0.3154 - accuracy: 0.9375 - val_loss: 2.9472 - val_accuracy: 0.8244\n",
      "Epoch 4/5\n",
      "480/480 [==============================] - 54s 113ms/step - loss: 0.1291 - accuracy: 0.9860 - val_loss: 3.0833 - val_accuracy: 0.8321\n",
      "Epoch 5/5\n",
      "480/480 [==============================] - 67s 140ms/step - loss: 0.0465 - accuracy: 0.9932 - val_loss: 3.5773 - val_accuracy: 0.8328\n",
      "Epoch 1/10\n",
      "188/188 [==============================] - 32s 155ms/step - loss: 0.3004 - accuracy: 0.8770 - val_loss: 0.3242 - val_accuracy: 0.8597\n",
      "Epoch 2/10\n",
      "188/188 [==============================] - 29s 157ms/step - loss: 0.2495 - accuracy: 0.8892 - val_loss: 0.3036 - val_accuracy: 0.8638\n",
      "Epoch 3/10\n",
      "188/188 [==============================] - 23s 123ms/step - loss: 0.2330 - accuracy: 0.8937 - val_loss: 0.3229 - val_accuracy: 0.8572\n",
      "Epoch 4/10\n",
      "188/188 [==============================] - 26s 140ms/step - loss: 0.2258 - accuracy: 0.8961 - val_loss: 0.2895 - val_accuracy: 0.8708\n",
      "Epoch 5/10\n",
      "188/188 [==============================] - 23s 123ms/step - loss: 0.2171 - accuracy: 0.9025 - val_loss: 0.2775 - val_accuracy: 0.8771\n",
      "Epoch 6/10\n",
      "188/188 [==============================] - 32s 169ms/step - loss: 0.2110 - accuracy: 0.9057 - val_loss: 0.2661 - val_accuracy: 0.8846\n",
      "Epoch 7/10\n",
      "188/188 [==============================] - 41s 217ms/step - loss: 0.2083 - accuracy: 0.9060 - val_loss: 0.2625 - val_accuracy: 0.8882\n",
      "Epoch 8/10\n",
      "188/188 [==============================] - 40s 211ms/step - loss: 0.2004 - accuracy: 0.9105 - val_loss: 0.2679 - val_accuracy: 0.8862\n",
      "Epoch 9/10\n",
      "188/188 [==============================] - 33s 176ms/step - loss: 0.1955 - accuracy: 0.9131 - val_loss: 0.2634 - val_accuracy: 0.8842\n",
      "Epoch 10/10\n",
      "188/188 [==============================] - 28s 150ms/step - loss: 0.1937 - accuracy: 0.9131 - val_loss: 0.2560 - val_accuracy: 0.8903\n"
     ]
    },
    {
     "data": {
      "text/plain": [
       "<keras.callbacks.History at 0x21561086800>"
      ]
     },
     "execution_count": 19,
     "metadata": {},
     "output_type": "execute_result"
    }
   ],
   "source": [
    "# Train the model on training data\n",
    "lstm_model.fit(tmp_x_train, tmp_y_train, batch_size=10, epochs=5, validation_split=0.2)\n",
    "# Train the model on actual data\n",
    "lstm_model.fit(tmp_x, tmp_y, batch_size=10, epochs=10, validation_split=0.2)"
   ]
  },
  {
   "cell_type": "markdown",
   "id": "70fbfa11-dc57-475e-ad33-548640757ec7",
   "metadata": {
    "tags": []
   },
   "source": [
    "#### Test:"
   ]
  },
  {
   "cell_type": "code",
   "execution_count": 20,
   "id": "8c5c59b9-32a4-4fac-832f-12d0ab1503c9",
   "metadata": {},
   "outputs": [],
   "source": [
    "test_x_tmp = pad(preproc_test_notes, max_sequence_length)\n",
    "test_y_tmp = pad(preproc_test_locs, max_sequence_length)"
   ]
  },
  {
   "cell_type": "code",
   "execution_count": 21,
   "id": "b520e5fd-22fc-4441-8da8-534fd87a0d4a",
   "metadata": {},
   "outputs": [
    {
     "name": "stdout",
     "output_type": "stream",
     "text": [
      "WARNING:tensorflow:Model was constructed with shape (None, 500) for input KerasTensor(type_spec=TensorSpec(shape=(None, 500), dtype=tf.float32, name='embedding_input'), name='embedding_input', description=\"created by layer 'embedding_input'\"), but it was called on an input with incompatible shape (None, 1).\n",
      "Precise location statistics:  56.401%\n",
      "Correct note+octave statistics: 99.98%\n"
     ]
    }
   ],
   "source": [
    "# Run the test\n",
    "notes_length = 0\n",
    "notes_correct = 0\n",
    "\n",
    "locs_length = 0\n",
    "locs_correct = 0\n",
    "\n",
    "note_loc_map = make_note_map()\n",
    "\n",
    "for notes, locs in zip(test_x_tmp, test_y_tmp):\n",
    "    \n",
    "    prediction = lstm_model.predict(notes, verbose=False)\n",
    "    \n",
    "    for note, actual in zip(prediction, locs):\n",
    "        actual = actual[0]\n",
    "        note = note[0]\n",
    "        \n",
    "        indx = np.argmax(note) # find the predicted note\n",
    "        \n",
    "        if actual == 0 or indx == 0:\n",
    "            continue # skip end of sequence\n",
    "        \n",
    "        # otherwise add 1 to length\n",
    "        notes_length += 1 \n",
    "        locs_length += 1\n",
    "        \n",
    "        loc_predicted = loc_map_back[indx]\n",
    "        loc_actual = loc_map_back[actual]\n",
    "        \n",
    "        # Find the actual note+octave of the predicted location\n",
    "        note_predicted = find_note_by_loc(loc_predicted, note_loc_map)\n",
    "        note_actual = find_note_by_loc(loc_actual, note_loc_map)\n",
    "        \n",
    "        #print(\"Predicted: \", note_predicted,\"@\",loc_predicted , \"\\t Actual: \", note_actual, \"@\", loc_actual)\n",
    "        \n",
    "        # Add 1 to locs if loc is correct\n",
    "        if indx == actual:\n",
    "            locs_correct += 1\n",
    "        \n",
    "        # Add 1 to notes if note is correct\n",
    "        if note_predicted == note_actual:\n",
    "            notes_correct += 1\n",
    "    \n",
    "    #print(\"Correct: {} \\t Total: {} \\t Percentage: {}%\".format(correct, total_length, round((correct/total_length) * 100,3)))\n",
    "    #print(\"Correct: \", correct)\n",
    "    #print(\"Total: \", total_length)\n",
    "\n",
    "print(\"Precise location statistics:  {}%\".format(round((locs_correct/locs_length)*100, 3)) )\n",
    "print(\"Correct note+octave statistics: {}%\".format(round((notes_correct/notes_length)*100, 3)) ) "
   ]
  },
  {
   "cell_type": "markdown",
   "id": "b9d9b529-44ba-48a4-a916-43779fabb280",
   "metadata": {
    "tags": []
   },
   "source": [
    "### GRU Model:"
   ]
  },
  {
   "cell_type": "markdown",
   "id": "dc7ad0d5-7fec-42f2-abac-a678217e1f88",
   "metadata": {
    "tags": []
   },
   "source": [
    "#### Define:"
   ]
  },
  {
   "cell_type": "code",
   "execution_count": 22,
   "id": "dc78a378-97fb-428a-bef9-a3e37124bdd4",
   "metadata": {},
   "outputs": [
    {
     "name": "stdout",
     "output_type": "stream",
     "text": [
      "Model: \"sequential_1\"\n",
      "_________________________________________________________________\n",
      " Layer (type)                Output Shape              Param #   \n",
      "=================================================================\n",
      " embedding_1 (Embedding)     (None, 500, 150)          9000      \n",
      "                                                                 \n",
      " gru (GRU)                   (None, 500, 512)          1019904   \n",
      "                                                                 \n",
      " time_distributed_1 (TimeDis  (None, 500, 150)         76950     \n",
      " tributed)                                                       \n",
      "                                                                 \n",
      " activation_1 (Activation)   (None, 500, 150)          0         \n",
      "                                                                 \n",
      "=================================================================\n",
      "Total params: 1,105,854\n",
      "Trainable params: 1,105,854\n",
      "Non-trainable params: 0\n",
      "_________________________________________________________________\n",
      "None\n"
     ]
    }
   ],
   "source": [
    "# Define the model\n",
    "def gru_model(input_shape, output_sequence_length, note_vocab_size, loc_vocab_size):\n",
    "    \n",
    "    model = Sequential()\n",
    "    model.add(Embedding(output_dim=loc_vocab_size, input_dim=note_vocab_size, input_length=input_shape[1]))\n",
    "    model.add(GRU(512, return_sequences=True, activation=\"tanh\"))\n",
    "    model.add(TimeDistributed(Dense(loc_vocab_size)))\n",
    "    model.add(Activation('softmax'))\n",
    "    model.compile(loss=\"sparse_categorical_crossentropy\",\n",
    "                  optimizer=Adam(),\n",
    "                  metrics=['accuracy'])\n",
    "    return model\n",
    "\n",
    "tmp_x_train = pad(preproc_train_notes, max_sequence_length)\n",
    "tmp_y_train = pad(preproc_train_locs, max_sequence_length)\n",
    "\n",
    "tmp_x = pad(preproc_notes, max_sequence_length)\n",
    "tmp_y = pad(preproc_locs, max_sequence_length)\n",
    "\n",
    "# Train the neural network\n",
    "gru_model = gru_model(\n",
    "    tmp_x.shape,\n",
    "    max_sequence_length,\n",
    "    note_vocab_size,\n",
    "    loc_vocab_size)\n",
    "\n",
    "print(gru_model.summary())"
   ]
  },
  {
   "cell_type": "code",
   "execution_count": 23,
   "id": "6dfeea85-7527-445e-99b8-4786e85a7e01",
   "metadata": {},
   "outputs": [
    {
     "data": {
      "image/png": "[encoded data removed]",
      "text/plain": [
       "<IPython.core.display.Image object>"
      ]
     },
     "execution_count": 23,
     "metadata": {},
     "output_type": "execute_result"
    }
   ],
   "source": [
    "tf.keras.utils.plot_model(gru_model, show_shapes=True)"
   ]
  },
  {
   "cell_type": "markdown",
   "id": "209c8eaa-e29b-4837-9496-cafe36368196",
   "metadata": {
    "tags": []
   },
   "source": [
    "#### Train:"
   ]
  },
  {
   "cell_type": "code",
   "execution_count": 24,
   "id": "d9635c15-f7a6-4ff1-8529-ad1700c884e2",
   "metadata": {},
   "outputs": [
    {
     "name": "stdout",
     "output_type": "stream",
     "text": [
      "Epoch 1/5\n",
      "540/540 [==============================] - 30s 52ms/step - loss: 0.5071 - accuracy: 0.9017 - val_loss: 0.0566 - val_accuracy: 0.9905\n",
      "Epoch 2/5\n",
      "540/540 [==============================] - 40s 75ms/step - loss: 0.0175 - accuracy: 0.9942 - val_loss: 0.0143 - val_accuracy: 0.9948\n",
      "Epoch 3/5\n",
      "540/540 [==============================] - 54s 100ms/step - loss: 0.0104 - accuracy: 0.9954 - val_loss: 0.0130 - val_accuracy: 0.9941\n",
      "Epoch 4/5\n",
      "540/540 [==============================] - 78s 145ms/step - loss: 0.0103 - accuracy: 0.9955 - val_loss: 0.0130 - val_accuracy: 0.9944\n",
      "Epoch 5/5\n",
      "540/540 [==============================] - 69s 128ms/step - loss: 0.0112 - accuracy: 0.9952 - val_loss: 0.0137 - val_accuracy: 0.9939\n",
      "Epoch 1/10\n",
      "188/188 [==============================] - 28s 145ms/step - loss: 0.2551 - accuracy: 0.8933 - val_loss: 0.2722 - val_accuracy: 0.8788\n",
      "Epoch 2/10\n",
      "188/188 [==============================] - 34s 181ms/step - loss: 0.1978 - accuracy: 0.9108 - val_loss: 0.2493 - val_accuracy: 0.8921\n",
      "Epoch 3/10\n",
      "188/188 [==============================] - 22s 119ms/step - loss: 0.1827 - accuracy: 0.9201 - val_loss: 0.2537 - val_accuracy: 0.8915\n",
      "Epoch 4/10\n",
      "188/188 [==============================] - 20s 105ms/step - loss: 0.1685 - accuracy: 0.9265 - val_loss: 0.2462 - val_accuracy: 0.8964\n",
      "Epoch 5/10\n",
      "188/188 [==============================] - 19s 102ms/step - loss: 0.1576 - accuracy: 0.9327 - val_loss: 0.2357 - val_accuracy: 0.8980\n",
      "Epoch 6/10\n",
      "188/188 [==============================] - 19s 102ms/step - loss: 0.1451 - accuracy: 0.9395 - val_loss: 0.2350 - val_accuracy: 0.9026\n",
      "Epoch 7/10\n",
      "188/188 [==============================] - 19s 102ms/step - loss: 0.1299 - accuracy: 0.9466 - val_loss: 0.2620 - val_accuracy: 0.8957\n",
      "Epoch 8/10\n",
      "188/188 [==============================] - 19s 102ms/step - loss: 0.1202 - accuracy: 0.9509 - val_loss: 0.2531 - val_accuracy: 0.9017\n",
      "Epoch 9/10\n",
      "188/188 [==============================] - 19s 102ms/step - loss: 0.1057 - accuracy: 0.9575 - val_loss: 0.2501 - val_accuracy: 0.9000\n",
      "Epoch 10/10\n",
      "188/188 [==============================] - 19s 102ms/step - loss: 0.0917 - accuracy: 0.9640 - val_loss: 0.2654 - val_accuracy: 0.9002\n"
     ]
    },
    {
     "data": {
      "text/plain": [
       "<keras.callbacks.History at 0x215619b47c0>"
      ]
     },
     "execution_count": 24,
     "metadata": {},
     "output_type": "execute_result"
    }
   ],
   "source": [
    "# Train the model on training data\n",
    "gru_model.fit(tmp_x_train, tmp_y_train, batch_size=10, epochs=5, validation_split=0.1)\n",
    "# Train the model on actual data\n",
    "gru_model.fit(tmp_x, tmp_y, batch_size=10, epochs=10, validation_split=0.2)"
   ]
  },
  {
   "cell_type": "markdown",
   "id": "c173d20d-1d30-4224-88c0-e1de6ba6637c",
   "metadata": {
    "tags": []
   },
   "source": [
    "#### Test"
   ]
  },
  {
   "cell_type": "code",
   "execution_count": 25,
   "id": "225ef350-9b3c-4be7-baf4-5d2ba40841f2",
   "metadata": {},
   "outputs": [],
   "source": [
    "tmp_x_test = pad(preproc_test_notes, max_sequence_length)\n",
    "tmp_y_test = pad(preproc_test_locs, max_sequence_length)"
   ]
  },
  {
   "cell_type": "code",
   "execution_count": 26,
   "id": "a9b1dc0e-367a-4065-b48a-ade93ae59906",
   "metadata": {},
   "outputs": [
    {
     "name": "stdout",
     "output_type": "stream",
     "text": [
      "WARNING:tensorflow:Model was constructed with shape (None, 500) for input KerasTensor(type_spec=TensorSpec(shape=(None, 500), dtype=tf.float32, name='embedding_1_input'), name='embedding_1_input', description=\"created by layer 'embedding_1_input'\"), but it was called on an input with incompatible shape (None, 1).\n",
      "Precise location statistics: 56.919\n",
      "Correct note+octave statistics: 100.0\n"
     ]
    }
   ],
   "source": [
    "# Run the test\n",
    "notes_length = 0\n",
    "notes_correct = 0\n",
    "\n",
    "locs_length = 0\n",
    "locs_correct = 0\n",
    "\n",
    "note_loc_map = make_note_map()\n",
    "\n",
    "for notes, locs in zip(tmp_x_test, tmp_y_test):\n",
    "    prediction = gru_model.predict(notes, verbose=False)\n",
    "    \n",
    "    for note, actual in zip(prediction, locs):\n",
    "        actual = actual[0]\n",
    "        note = note[0]\n",
    "        \n",
    "        if actual == 0:\n",
    "            continue # skip end of sequence   \n",
    "        \n",
    "        indx = np.argmax(note) # find the predicted location\n",
    "        \n",
    "        if indx == 0:\n",
    "            indx += 1\n",
    "            \n",
    "        locs_length += 1\n",
    "        notes_length += 1\n",
    "        \n",
    "        note_predicted = find_note_by_loc(loc_map_back[indx], note_loc_map)\n",
    "        note_actual = find_note_by_loc(loc_map_back[actual], note_loc_map)\n",
    "        \n",
    "        if indx == actual:\n",
    "            locs_correct += 1\n",
    "            \n",
    "        if note_predicted == note_actual:\n",
    "            notes_correct += 1\n",
    "        \n",
    "    \n",
    "    #print(\"Correct: {} \\t Total: {} \\t Percentage: {}%\".format(correct, total_length, round((correct/total_length) * 100,3)))\n",
    "    #print(\"Correct: \", correct)\n",
    "    #print(\"Total: \", total_length)\n",
    "\n",
    "    \n",
    "print(\"Precise location statistics:\", round((locs_correct/locs_length)*100, 3) )\n",
    "print(\"Correct note+octave statistics:\", round((notes_correct/notes_length)*100, 3) ) "
   ]
  },
  {
   "cell_type": "code",
   "execution_count": 31,
   "id": "4331a21c-280b-4e38-906b-748ac24d472f",
   "metadata": {},
   "outputs": [
    {
     "name": "stderr",
     "output_type": "stream",
     "text": [
      "WARNING:absl:Found untraced functions such as gru_cell_2_layer_call_fn, gru_cell_2_layer_call_and_return_conditional_losses while saving (showing 2 of 2). These functions will not be directly callable after loading.\n"
     ]
    },
    {
     "name": "stdout",
     "output_type": "stream",
     "text": [
      "INFO:tensorflow:Assets written to: embed_model\\assets\n"
     ]
    },
    {
     "name": "stderr",
     "output_type": "stream",
     "text": [
      "INFO:tensorflow:Assets written to: embed_model\\assets\n"
     ]
    }
   ],
   "source": [
    "#gru_model.save(\"gru_model\")"
   ]
  },
  {
   "cell_type": "markdown",
   "id": "cff5bf48-e887-42ae-bb05-d49e9000d79d",
   "metadata": {},
   "source": [
    "#### Define:"
   ]
  },
  {
   "cell_type": "markdown",
   "id": "0e06bbd2-d621-4fe8-8c16-d0d7aee54dfe",
   "metadata": {},
   "source": [
    "#### Train:"
   ]
  },
  {
   "cell_type": "markdown",
   "id": "45de32f8-65a5-4cd5-b54d-b37ae798ff97",
   "metadata": {},
   "source": [
    "#### Test:"
   ]
  }
 ],
 "metadata": {
  "kernelspec": {
   "display_name": "tf-n",
   "language": "python",
   "name": "tf-n"
  },
  "language_info": {
   "codemirror_mode": {
    "name": "ipython",
    "version": 3
   },
   "file_extension": ".py",
   "mimetype": "text/x-python",
   "name": "python",
   "nbconvert_exporter": "python",
   "pygments_lexer": "ipython3",
   "version": "3.10.4"
  }
 },
 "nbformat": 4,
 "nbformat_minor": 5
}
